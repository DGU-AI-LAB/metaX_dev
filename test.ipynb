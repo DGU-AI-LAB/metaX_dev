{
 "metadata": {
  "language_info": {
   "codemirror_mode": {
    "name": "ipython",
    "version": 3
   },
   "file_extension": ".py",
   "mimetype": "text/x-python",
   "name": "python",
   "nbconvert_exporter": "python",
   "pygments_lexer": "ipython3",
   "version": "3.6.10-final"
  },
  "orig_nbformat": 2,
  "kernelspec": {
   "name": "Python 3.6.10 64-bit ('tf2': conda)",
   "display_name": "Python 3.6.10 64-bit ('tf2': conda)",
   "metadata": {
    "interpreter": {
     "hash": "34506d3fa9236e9557c41cb4cb63f819be855c65cfd3f384b52c73433e2d7948"
    }
   }
  }
 },
 "nbformat": 4,
 "nbformat_minor": 2,
 "cells": [
  {
   "cell_type": "code",
   "execution_count": 2,
   "metadata": {},
   "outputs": [],
   "source": [
    "from model.optimization_based.maml import OmniglotModel, MiniImagenetModel, ModelAgnosticMetaLearning\n",
    "from dataset.data_generator import OmniglotDatabase, MiniImagenetDatabase\n",
    "import argparse\n",
    "\n",
    "import logging, os"
   ]
  },
  {
   "cell_type": "code",
   "execution_count": 5,
   "metadata": {},
   "outputs": [],
   "source": [
    "database = OmniglotDatabase(\n",
    "        # 200831 changed path, add raw_data folder\n",
    "    raw_data_address=\"dataset/raw_data/omniglot\",\n",
    "    random_seed=47,\n",
    "    num_train_classes=1200,\n",
    "    num_val_classes=100)"
   ]
  },
  {
   "cell_type": "code",
   "execution_count": 6,
   "metadata": {},
   "outputs": [],
   "source": [
    "network_cls=OmniglotModel"
   ]
  },
  {
   "cell_type": "code",
   "execution_count": 7,
   "metadata": {},
   "outputs": [
    {
     "output_type": "error",
     "ename": "NameError",
     "evalue": "name 'args' is not defined",
     "traceback": [
      "\u001b[1;31m---------------------------------------------------------------------------\u001b[0m",
      "\u001b[1;31mNameError\u001b[0m                                 Traceback (most recent call last)",
      "\u001b[1;32m<ipython-input-7-31be481ca509>\u001b[0m in \u001b[0;36m<module>\u001b[1;34m\u001b[0m\n\u001b[1;32m----> 1\u001b[1;33m \u001b[0mmaml\u001b[0m \u001b[1;33m=\u001b[0m \u001b[0mModelAgnosticMetaLearning\u001b[0m\u001b[1;33m(\u001b[0m\u001b[0margs\u001b[0m\u001b[1;33m,\u001b[0m \u001b[0mdatabase\u001b[0m\u001b[1;33m,\u001b[0m \u001b[0mnetwork_cls\u001b[0m\u001b[1;33m)\u001b[0m\u001b[1;33m\u001b[0m\u001b[1;33m\u001b[0m\u001b[0m\n\u001b[0m",
      "\u001b[1;31mNameError\u001b[0m: name 'args' is not defined"
     ]
    }
   ],
   "source": [
    "maml = ModelAgnosticMetaLearning(args, database, network_cls)"
   ]
  },
  {
   "cell_type": "code",
   "execution_count": null,
   "metadata": {},
   "outputs": [],
   "source": []
  }
 ]
}